{
 "cells": [
  {
   "cell_type": "code",
   "execution_count": 1,
   "id": "8baf3d65",
   "metadata": {},
   "outputs": [],
   "source": [
    "import pandas as pd"
   ]
  },
  {
   "cell_type": "code",
   "execution_count": 2,
   "id": "0597a49c",
   "metadata": {},
   "outputs": [],
   "source": [
    "HD64_topo = pd.DataFrame([\n",
    "    [-1, -1, 60, 55, 58, 63, -1, -1],\n",
    "    [24, 54, 47, 46, 53, 52, 59, 25],\n",
    "    [23, 38, 21, 20, 29, 28, 45, 26],\n",
    "    [22, 31, 10,  2,  7, 19, 36, 27],\n",
    "    [32, 30,  0, 13, 16,  9, 37, 35],\n",
    "    [48, 41, 11,  3,  6, 18, 42, 51],\n",
    "    [49, 39,  1,  4,  5,  8, 44, 50],\n",
    "    [56, 40, 12, 14, 15, 17, 43, 57],\n",
    "    ])\n",
    "\n",
    "diagramOrientation = 'metal_down'\n",
    "if diagramOrientation == 'metal_up':\n",
    "    HD64_topo.loc[:, :] = HD64_topo.to_numpy()[:, ::-1]\n",
    "    diagramPrettyText = 'contacts facing up'\n",
    "elif diagramOrientation == 'metal_down':\n",
    "    diagramPrettyText = 'contacts facing down'"
   ]
  },
  {
   "cell_type": "code",
   "execution_count": 7,
   "id": "b83aa131",
   "metadata": {},
   "outputs": [
    {
     "name": "stdout",
     "output_type": "stream",
     "text": [
      "1.A.1.000; eid.24\n",
      "1.A.1.001; eid.23\n",
      "1.A.1.002; eid.22\n",
      "1.A.1.003; eid.32\n",
      "1.A.1.004; eid.48\n",
      "1.A.1.005; eid.49\n",
      "1.A.1.006; eid.56\n",
      "1.A.1.007; eid.54\n",
      "1.A.1.008; eid.38\n",
      "1.A.1.009; eid.31\n",
      "1.A.1.010; eid.30\n",
      "1.A.1.011; eid.41\n",
      "1.A.1.012; eid.39\n",
      "1.A.1.013; eid.40\n",
      "1.A.1.014; eid.60\n",
      "1.A.1.015; eid.47\n",
      "1.A.1.016; eid.21\n",
      "1.A.1.017; eid.10\n",
      "1.A.1.018; eid.0\n",
      "1.A.1.019; eid.11\n",
      "1.A.1.020; eid.1\n",
      "1.A.1.021; eid.12\n",
      "1.A.1.022; eid.55\n",
      "1.A.1.023; eid.46\n",
      "1.A.1.024; eid.20\n",
      "1.A.1.025; eid.2\n",
      "1.A.1.026; eid.13\n",
      "1.A.1.027; eid.3\n",
      "1.A.1.028; eid.4\n",
      "1.A.1.029; eid.14\n",
      "1.A.1.030; eid.58\n",
      "1.A.1.031; eid.53\n",
      "1.A.1.032; eid.29\n",
      "1.A.1.033; eid.7\n",
      "1.A.1.034; eid.16\n",
      "1.A.1.035; eid.6\n",
      "1.A.1.036; eid.5\n",
      "1.A.1.037; eid.15\n",
      "1.A.1.038; eid.63\n",
      "1.A.1.039; eid.52\n",
      "1.A.1.040; eid.28\n",
      "1.A.1.041; eid.19\n",
      "1.A.1.042; eid.9\n",
      "1.A.1.043; eid.18\n",
      "1.A.1.044; eid.8\n",
      "1.A.1.045; eid.17\n",
      "1.A.1.046; eid.59\n",
      "1.A.1.047; eid.45\n",
      "1.A.1.048; eid.36\n",
      "1.A.1.049; eid.37\n",
      "1.A.1.050; eid.42\n",
      "1.A.1.051; eid.44\n",
      "1.A.1.052; eid.43\n",
      "1.A.1.053; eid.25\n",
      "1.A.1.054; eid.26\n",
      "1.A.1.055; eid.27\n",
      "1.A.1.056; eid.35\n",
      "1.A.1.057; eid.51\n",
      "1.A.1.058; eid.50\n",
      "1.A.1.059; eid.57\n"
     ]
    }
   ],
   "source": [
    "dx, dy = 10, 10\n",
    "dummy_front = '1.A.1'\n",
    "e_idx = 0\n",
    "for x_idx in range(HD64_topo.shape[1]):\n",
    "    for y_idx in range(HD64_topo.shape[0]):\n",
    "        eid = HD64_topo.iloc[y_idx, x_idx]\n",
    "        if eid > -1:\n",
    "            this_line = f\"{dummy_front}.{e_idx:0>3d}; eid.{eid:0>3d}; \"\n",
    "            print(this_line)\n",
    "            e_idx += 1"
   ]
  },
  {
   "cell_type": "code",
   "execution_count": null,
   "id": "63301be4",
   "metadata": {},
   "outputs": [],
   "source": []
  }
 ],
 "metadata": {
  "kernelspec": {
   "display_name": "Python 3 (ipykernel)",
   "language": "python",
   "name": "python3"
  },
  "language_info": {
   "codemirror_mode": {
    "name": "ipython",
    "version": 3
   },
   "file_extension": ".py",
   "mimetype": "text/x-python",
   "name": "python",
   "nbconvert_exporter": "python",
   "pygments_lexer": "ipython3",
   "version": "3.8.16"
  }
 },
 "nbformat": 4,
 "nbformat_minor": 5
}
