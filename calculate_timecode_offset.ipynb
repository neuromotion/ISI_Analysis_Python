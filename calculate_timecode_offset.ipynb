{
 "cells": [
  {
   "cell_type": "code",
   "execution_count": 2,
   "id": "56af49b8",
   "metadata": {},
   "outputs": [
    {
     "name": "stdout",
     "output_type": "stream",
     "text": [
      "The offset is 04:17:39:07\n"
     ]
    }
   ],
   "source": [
    "import pandas as pd\n",
    "\n",
    "# year, month, day don't matter, they just have to be set\n",
    "dummy_year, dummy_month, dummy_day = 2022, 10, 31\n",
    "\n",
    "# last two digits are frames, not seconds\n",
    "fps = 29.97\n",
    "\n",
    "# original timestamp in video, shown in premiere\n",
    "num_frames_video = 29  # last two digits of timecode\n",
    "video_usec = int(1e6 * num_frames_video / fps)\n",
    "CURRENT_TIMESTAMP = pd.Timestamp(\n",
    "    year=dummy_year, month=dummy_month, day=dummy_day,\n",
    "    hour=0, minute=10, second=29,\n",
    "    microsecond=video_usec)\n",
    "\n",
    "# timecode visible in frame\n",
    "num_frames_timecode = 7  # last two digits of timecode\n",
    "timecode_usec = int(1e6 * num_frames_timecode / fps)\n",
    "VALUE_IN_FRAME = pd.Timestamp(\n",
    "    year=dummy_year, month=dummy_month, day=dummy_day,\n",
    "    hour=4, minute=28, second=9,\n",
    "    microsecond=timecode_usec)\n",
    "\n",
    "offset = VALUE_IN_FRAME - CURRENT_TIMESTAMP\n",
    "\n",
    "delta_usec = offset.components.milliseconds * 1000 + offset.components.microseconds\n",
    "delta_frames = int(fps * delta_usec * 1e-6)\n",
    "print(f'The offset is {offset.components.hours:0>2d}:{offset.components.minutes:0>2d}:{offset.components.seconds:0>2d}:{delta_frames:0>2d}')"
   ]
  },
  {
   "cell_type": "code",
   "execution_count": 14,
   "id": "f9efce8e",
   "metadata": {},
   "outputs": [],
   "source": [
    "def timestring_to_timestamp(\n",
    "        tcode, fps=29.97,\n",
    "        year=2022, month=10, day=31,\n",
    "        timecode_type='DF'):\n",
    "    if timecode_type == 'DF':\n",
    "        hour, minute, second, frame = [int(num) for num in tcode.split(':')]\n",
    "        usec = int(1e6 * frame / fps)\n",
    "        print(usec)\n",
    "        tstamp = pd.Timestamp(\n",
    "            year=year, month=month, day=day,\n",
    "            hour=hour, minute=minute, second=second,\n",
    "            microsecond=usec)\n",
    "    elif timecode_type == 'NDF':\n",
    "        total_frames = count_frames(tcode)\n",
    "        t_delta = pd.Timedelta(total_frames / fps, unit='sec')\n",
    "        tstamp = pd.Timestamp(year=year, month=month, day=day) + t_delta\n",
    "    return tstamp"
   ]
  },
  {
   "cell_type": "code",
   "execution_count": 20,
   "id": "81685fef",
   "metadata": {},
   "outputs": [],
   "source": [
    "df_timestamps_path = '/oscar/home/rdarie/data/rdarie/Neural Recordings/raw/ISI-C-003/6_Video/Day11_AM_Cam1_GH010630_NDF_audible_timings_sanitized_rd.csv'\n",
    "df_timestamps = pd.read_csv(df_timestamps_path)"
   ]
  },
  {
   "cell_type": "code",
   "execution_count": 21,
   "id": "01110102",
   "metadata": {},
   "outputs": [
    {
     "data": {
      "text/html": [
       "<div>\n",
       "<style scoped>\n",
       "    .dataframe tbody tr th:only-of-type {\n",
       "        vertical-align: middle;\n",
       "    }\n",
       "\n",
       "    .dataframe tbody tr th {\n",
       "        vertical-align: top;\n",
       "    }\n",
       "\n",
       "    .dataframe thead th {\n",
       "        text-align: right;\n",
       "    }\n",
       "</style>\n",
       "<table border=\"1\" class=\"dataframe\">\n",
       "  <thead>\n",
       "    <tr style=\"text-align: right;\">\n",
       "      <th></th>\n",
       "      <th>words</th>\n",
       "      <th>time</th>\n",
       "    </tr>\n",
       "  </thead>\n",
       "  <tbody>\n",
       "    <tr>\n",
       "      <th>0</th>\n",
       "      <td>Left</td>\n",
       "      <td>23:31:53:25</td>\n",
       "    </tr>\n",
       "    <tr>\n",
       "      <th>1</th>\n",
       "      <td>Right</td>\n",
       "      <td>23:31:55:27</td>\n",
       "    </tr>\n",
       "    <tr>\n",
       "      <th>2</th>\n",
       "      <td>Left</td>\n",
       "      <td>23:31:57:20</td>\n",
       "    </tr>\n",
       "    <tr>\n",
       "      <th>3</th>\n",
       "      <td>Right</td>\n",
       "      <td>23:31:59:18</td>\n",
       "    </tr>\n",
       "    <tr>\n",
       "      <th>4</th>\n",
       "      <td>Left</td>\n",
       "      <td>23:32:01:08</td>\n",
       "    </tr>\n",
       "    <tr>\n",
       "      <th>...</th>\n",
       "      <td>...</td>\n",
       "      <td>...</td>\n",
       "    </tr>\n",
       "    <tr>\n",
       "      <th>142</th>\n",
       "      <td>Left</td>\n",
       "      <td>00:13:39:06</td>\n",
       "    </tr>\n",
       "    <tr>\n",
       "      <th>143</th>\n",
       "      <td>Right</td>\n",
       "      <td>00:13:41:09</td>\n",
       "    </tr>\n",
       "    <tr>\n",
       "      <th>144</th>\n",
       "      <td>Left</td>\n",
       "      <td>00:13:42:18</td>\n",
       "    </tr>\n",
       "    <tr>\n",
       "      <th>145</th>\n",
       "      <td>Right</td>\n",
       "      <td>00:13:44:17</td>\n",
       "    </tr>\n",
       "    <tr>\n",
       "      <th>146</th>\n",
       "      <td>Left</td>\n",
       "      <td>00:13:46:18</td>\n",
       "    </tr>\n",
       "  </tbody>\n",
       "</table>\n",
       "<p>147 rows × 2 columns</p>\n",
       "</div>"
      ],
      "text/plain": [
       "     words         time\n",
       "0     Left  23:31:53:25\n",
       "1    Right  23:31:55:27\n",
       "2     Left  23:31:57:20\n",
       "3    Right  23:31:59:18\n",
       "4     Left  23:32:01:08\n",
       "..     ...          ...\n",
       "142   Left  00:13:39:06\n",
       "143  Right  00:13:41:09\n",
       "144   Left  00:13:42:18\n",
       "145  Right  00:13:44:17\n",
       "146   Left  00:13:46:18\n",
       "\n",
       "[147 rows x 2 columns]"
      ]
     },
     "execution_count": 21,
     "metadata": {},
     "output_type": "execute_result"
    }
   ],
   "source": [
    "df_timestamps"
   ]
  },
  {
   "cell_type": "code",
   "execution_count": null,
   "id": "c4de9dae",
   "metadata": {},
   "outputs": [],
   "source": []
  }
 ],
 "metadata": {
  "kernelspec": {
   "display_name": "Python 3 (ipykernel)",
   "language": "python",
   "name": "python3"
  },
  "language_info": {
   "codemirror_mode": {
    "name": "ipython",
    "version": 3
   },
   "file_extension": ".py",
   "mimetype": "text/x-python",
   "name": "python",
   "nbconvert_exporter": "python",
   "pygments_lexer": "ipython3",
   "version": "3.8.16"
  }
 },
 "nbformat": 4,
 "nbformat_minor": 5
}
