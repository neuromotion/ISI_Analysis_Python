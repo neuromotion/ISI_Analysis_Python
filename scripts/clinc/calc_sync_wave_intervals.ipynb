{
 "cells": [
  {
   "cell_type": "code",
   "execution_count": 1,
   "id": "53cf0670",
   "metadata": {},
   "outputs": [],
   "source": [
    "import matplotlib.pyplot as plt\n",
    "from isicpy.third_party.pymatreader import hdf5todict\n",
    "from isicpy.utils import makeFilterCoeffsSOS\n",
    "from pathlib import Path\n",
    "import h5py\n",
    "import numpy as np\n",
    "import pandas as pd\n",
    "from scipy import signal\n",
    "\n",
    "clinc_slines = {\n",
    "    'S1_S3': 8,\n",
    "    'S22': 12,\n",
    "    'S18': 9,\n",
    "    'S19': 7,\n",
    "    'S23': 4,\n",
    "    'S16': 6,\n",
    "    'S15': 10,\n",
    "    'S12_S20': 27,\n",
    "    'S11': 17,\n",
    "    'S6': 21,\n",
    "    'S14': 25,\n",
    "    'S7': 5,\n",
    "    'S0_S2': 13\n",
    "    }\n",
    "\n",
    "clinc_sample_rate = 38690\n",
    "clinc_sample_interval = pd.Timedelta(clinc_sample_rate ** -1, unit='s')\n",
    "                                     \n",
    "clinc_col_names = [key for key, value in clinc_slines.items()]\n",
    "clinc_indexes = [value for key, value in clinc_slines.items()]\n",
    "folder_path = Path(r\"/users/rdarie/data/rdarie/Neural Recordings/raw/20231109-Phoenix\")\n",
    "\n",
    "file_name_list = [\"MB_1699558933_985097_f.mat\", \"MB_1699560317_650555_f.mat\", 'MB_1699560792_657674_f.mat']\n",
    "# file_name = \"MB_1699558933_985097_f.mat\"\n",
    "# file_name = \"MB_1699560317_650555_f.mat\"\n",
    "# file_name = 'MB_1699560792_657674_f.mat'"
   ]
  },
  {
   "cell_type": "code",
   "execution_count": null,
   "id": "b97d9f4f",
   "metadata": {},
   "outputs": [
    {
     "name": "stdout",
     "output_type": "stream",
     "text": [
      "on file MB_1699558933_985097_f.mat\n"
     ]
    },
    {
     "name": "stderr",
     "output_type": "stream",
     "text": [
      "/gpfs/home/rdarie/isi_analysis/ISI_Analysis_Python/isicpy/third_party/pymatreader/utils.py:124: UserWarning: Complex objects (like classes) are not supported. They are imported on a best effort base but your mileage will vary.\n",
      "  warn('Complex objects (like classes) are not supported. '\n"
     ]
    },
    {
     "name": "stdout",
     "output_type": "stream",
     "text": [
      "\tUnique intervals between USB packet counts: [-65535      0      1]\n",
      "\tUnique intervals between sample counts (should be just a [1] unless there are dropped packets): [1]\n",
      "\t172 rising edges detected\n",
      "\tUnique counts of samples between rising edges: [110795 110796]\n",
      "\tThe empirical sample rate is (# of samples between rising edges / 3 sec): 36931.88 Hz\n",
      "on file MB_1699560317_650555_f.mat\n"
     ]
    },
    {
     "name": "stderr",
     "output_type": "stream",
     "text": [
      "/gpfs/home/rdarie/isi_analysis/ISI_Analysis_Python/isicpy/third_party/pymatreader/utils.py:124: UserWarning: Complex objects (like classes) are not supported. They are imported on a best effort base but your mileage will vary.\n",
      "  warn('Complex objects (like classes) are not supported. '\n"
     ]
    },
    {
     "name": "stdout",
     "output_type": "stream",
     "text": [
      "\tUnique intervals between USB packet counts: [-65535      0      1]\n",
      "\tUnique intervals between sample counts (should be just a [1] unless there are dropped packets): [   1  260  417 1112]\n",
      "\t102 rising edges detected\n",
      "\tUnique counts of samples between rising edges: [110013 110795 110796 111578]\n",
      "\tThe empirical sample rate is (# of samples between rising edges / 3 sec): 36931.87 Hz\n",
      "on file MB_1699560792_657674_f.mat\n"
     ]
    },
    {
     "name": "stderr",
     "output_type": "stream",
     "text": [
      "/gpfs/home/rdarie/isi_analysis/ISI_Analysis_Python/isicpy/third_party/pymatreader/utils.py:124: UserWarning: Complex objects (like classes) are not supported. They are imported on a best effort base but your mileage will vary.\n",
      "  warn('Complex objects (like classes) are not supported. '\n"
     ]
    },
    {
     "name": "stdout",
     "output_type": "stream",
     "text": [
      "\tUnique intervals between USB packet counts: [-65535      0      1]\n",
      "\tUnique intervals between sample counts (should be just a [1] unless there are dropped packets): [1]\n",
      "\t13 rising edges detected\n",
      "\tUnique counts of samples between rising edges: [110795 110796]\n",
      "\tThe empirical sample rate is (# of samples between rising edges / 3 sec): 36931.89 Hz\n"
     ]
    }
   ],
   "source": [
    "for file_name in file_name_list:\n",
    "    print(f'on file {file_name}')\n",
    "    file_path = folder_path / file_name\n",
    "    with h5py.File(file_path, 'r') as hdf5_file:\n",
    "        data = hdf5todict(hdf5_file, variable_names=['data_this_file'], ignore_fields=None)\n",
    "    \n",
    "    print(f\"\\tUnique intervals between USB packet counts: {np.unique(np.diff(data['data_this_file']['usbPacketCount'].astype(int)))}\")\n",
    "    print(f\"\\tUnique intervals between sample counts (should be just a [1] unless there are dropped packets): {np.unique(np.diff(data['data_this_file']['SampleCount'].astype(int)))}\")\n",
    "    \n",
    "    clinc_index_temp = np.arange(\n",
    "        data['data_this_file']['SampleCount'].min(),\n",
    "        data['data_this_file']['SampleCount'].max() + 1, dtype=int)\n",
    "    clinc_index = clinc_index_temp - data['data_this_file']['SampleCount'].min().astype(int)\n",
    "    \n",
    "    clinc_sync_wave = pd.Series(np.nan, index=clinc_index_temp)\n",
    "    clinc_sync_wave.loc[data['data_this_file']['SampleCount']] = data['data_this_file']['SyncWave']\n",
    "    clinc_sync_wave.index = clinc_index\n",
    "\n",
    "    rising_edge_mask = ((clinc_sync_wave == 0) & (clinc_sync_wave.shift(1) == 1))\n",
    "    falling_edge_mask = ((clinc_sync_wave == 1) & (clinc_sync_wave.shift(1) == 0))\n",
    "    any_edge_mask = rising_edge_mask | falling_edge_mask\n",
    "    \n",
    "    rising_intervals = np.diff(clinc_sync_wave.index[rising_edge_mask])\n",
    "    print(f'\\t{rising_edge_mask.sum()} rising edges detected')\n",
    "    print(f'\\tUnique counts of samples between rising edges: {np.unique(rising_intervals)}')\n",
    "    \n",
    "    expected_period = 3\n",
    "    empirical_sample_interval = expected_period / np.mean(rising_intervals)\n",
    "    print(f'\\tThe empirical sample rate is (# of samples between rising edges / 3 sec): {empirical_sample_interval ** -1:.2f} Hz')"
   ]
  },
  {
   "cell_type": "code",
   "execution_count": 10,
   "id": "da0201fd",
   "metadata": {},
   "outputs": [
    {
     "name": "stdout",
     "output_type": "stream",
     "text": [
      "\t200 rising edges detected\n",
      "\tUnique counts of samples between rising edges: [3000 3001]\n",
      "\tThe empirical sample rate is (# of samples between rising edges / 3 sec): 1000.00 Hz\n",
      "\t181 rising edges detected\n",
      "\tUnique counts of samples between rising edges: [3000]\n",
      "\tThe empirical sample rate is (# of samples between rising edges / 3 sec): 1000.00 Hz\n"
     ]
    }
   ],
   "source": [
    "for dsi_block_name in ['Block0001', 'Block0002']:\n",
    "    dsi_df = pd.read_csv(folder_path / f\"{dsi_block_name}.ascii\", header=12, index_col=0, low_memory=False)\n",
    "    dsi_trigs = dsi_df.iloc[:, -1]\n",
    "    dsi_trigs.index = np.arange(dsi_trigs.shape[0])\n",
    "    thresh = (dsi_trigs.max() - dsi_trigs.min()) / 2\n",
    "\n",
    "    rising_edge_mask = ((dsi_trigs <= thresh) & (dsi_trigs.shift(1) >= thresh))\n",
    "    falling_edge_mask = ((dsi_trigs >= thresh) & (dsi_trigs.shift(1) <= thresh))\n",
    "    any_edge_mask = rising_edge_mask | falling_edge_mask\n",
    "    \n",
    "    rising_intervals = np.diff(dsi_trigs.index[rising_edge_mask])\n",
    "    print(f'\\t{rising_edge_mask.sum()} rising edges detected')\n",
    "    print(f'\\tUnique counts of samples between rising edges: {np.unique(rising_intervals)}')\n",
    "    \n",
    "    expected_period = 3\n",
    "    empirical_sample_interval = expected_period / np.mean(rising_intervals)\n",
    "    print(f'\\tThe empirical sample rate is (# of samples between rising edges / 3 sec): {empirical_sample_interval ** -1:.2f} Hz')"
   ]
  },
  {
   "cell_type": "code",
   "execution_count": null,
   "id": "55851be7-e5f3-4a62-bb8b-21ddbfa8f229",
   "metadata": {},
   "outputs": [],
   "source": []
  }
 ],
 "metadata": {
  "kernelspec": {
   "display_name": "Python 3 (ipykernel)",
   "language": "python",
   "name": "python3"
  },
  "language_info": {
   "codemirror_mode": {
    "name": "ipython",
    "version": 3
   },
   "file_extension": ".py",
   "mimetype": "text/x-python",
   "name": "python",
   "nbconvert_exporter": "python",
   "pygments_lexer": "ipython3",
   "version": "3.8.16"
  }
 },
 "nbformat": 4,
 "nbformat_minor": 5
}
