{
 "cells": [
  {
   "cell_type": "code",
   "execution_count": 7,
   "id": "41135b8b",
   "metadata": {},
   "outputs": [],
   "source": [
    "import palettable"
   ]
  },
  {
   "cell_type": "code",
   "execution_count": 14,
   "id": "dc81f53f",
   "metadata": {},
   "outputs": [
    {
     "data": {
      "text/html": [
       "<style type=\"text/css\">table.blockgrid {border: none;} .blockgrid tr {border: none;} .blockgrid td {padding: 0px;} #blocksbd2e13b6-50ae-4402-997f-8ff85d66b441 td {border: 1px solid white;}</style><table id=\"blocksbd2e13b6-50ae-4402-997f-8ff85d66b441\" class=\"blockgrid\"><tbody><tr><td title=\"Index: [0, 0]&#10;Color: (166, 206, 227)\" style=\"width: 100px; height: 100px;background-color: rgb(166, 206, 227);\"></td><td title=\"Index: [0, 1]&#10;Color: (31, 120, 180)\" style=\"width: 100px; height: 100px;background-color: rgb(31, 120, 180);\"></td><td title=\"Index: [0, 2]&#10;Color: (178, 223, 138)\" style=\"width: 100px; height: 100px;background-color: rgb(178, 223, 138);\"></td><td title=\"Index: [0, 3]&#10;Color: (51, 160, 44)\" style=\"width: 100px; height: 100px;background-color: rgb(51, 160, 44);\"></td><td title=\"Index: [0, 4]&#10;Color: (251, 154, 153)\" style=\"width: 100px; height: 100px;background-color: rgb(251, 154, 153);\"></td><td title=\"Index: [0, 5]&#10;Color: (227, 26, 28)\" style=\"width: 100px; height: 100px;background-color: rgb(227, 26, 28);\"></td><td title=\"Index: [0, 6]&#10;Color: (253, 191, 111)\" style=\"width: 100px; height: 100px;background-color: rgb(253, 191, 111);\"></td><td title=\"Index: [0, 7]&#10;Color: (255, 127, 0)\" style=\"width: 100px; height: 100px;background-color: rgb(255, 127, 0);\"></td><td title=\"Index: [0, 8]&#10;Color: (202, 178, 214)\" style=\"width: 100px; height: 100px;background-color: rgb(202, 178, 214);\"></td><td title=\"Index: [0, 9]&#10;Color: (106, 61, 154)\" style=\"width: 100px; height: 100px;background-color: rgb(106, 61, 154);\"></td><td title=\"Index: [0, 10]&#10;Color: (255, 255, 153)\" style=\"width: 100px; height: 100px;background-color: rgb(255, 255, 153);\"></td><td title=\"Index: [0, 11]&#10;Color: (177, 89, 40)\" style=\"width: 100px; height: 100px;background-color: rgb(177, 89, 40);\"></td></tr></tbody></table>"
      ],
      "text/plain": [
       "<IPython.core.display.HTML object>"
      ]
     },
     "metadata": {},
     "output_type": "display_data"
    }
   ],
   "source": [
    "palettable.colorbrewer.qualitative.Paired_12.show_as_blocks()"
   ]
  },
  {
   "cell_type": "code",
   "execution_count": 11,
   "id": "47031dbb",
   "metadata": {},
   "outputs": [
    {
     "data": {
      "text/html": [
       "<style type=\"text/css\">table.blockgrid {border: none;} .blockgrid tr {border: none;} .blockgrid td {padding: 0px;} #blocks2f5c6032-0e62-4dc9-8db8-5c724673dce3 td {border: 1px solid white;}</style><table id=\"blocks2f5c6032-0e62-4dc9-8db8-5c724673dce3\" class=\"blockgrid\"><tbody><tr><td title=\"Index: [0, 0]&#10;Color: (251, 180, 174)\" style=\"width: 100px; height: 100px;background-color: rgb(251, 180, 174);\"></td><td title=\"Index: [0, 1]&#10;Color: (179, 205, 227)\" style=\"width: 100px; height: 100px;background-color: rgb(179, 205, 227);\"></td><td title=\"Index: [0, 2]&#10;Color: (204, 235, 197)\" style=\"width: 100px; height: 100px;background-color: rgb(204, 235, 197);\"></td><td title=\"Index: [0, 3]&#10;Color: (222, 203, 228)\" style=\"width: 100px; height: 100px;background-color: rgb(222, 203, 228);\"></td><td title=\"Index: [0, 4]&#10;Color: (254, 217, 166)\" style=\"width: 100px; height: 100px;background-color: rgb(254, 217, 166);\"></td><td title=\"Index: [0, 5]&#10;Color: (255, 255, 204)\" style=\"width: 100px; height: 100px;background-color: rgb(255, 255, 204);\"></td></tr></tbody></table>"
      ],
      "text/plain": [
       "<IPython.core.display.HTML object>"
      ]
     },
     "metadata": {},
     "output_type": "display_data"
    }
   ],
   "source": [
    "palettable.colorbrewer.qualitative.Pastel1_6.show_as_blocks()"
   ]
  },
  {
   "cell_type": "code",
   "execution_count": 15,
   "id": "c36d43fc",
   "metadata": {},
   "outputs": [
    {
     "data": {
      "text/plain": [
       "[(0.6509803921568628, 0.807843137254902, 0.8901960784313725),\n",
       " (0.12156862745098039, 0.47058823529411764, 0.7058823529411765),\n",
       " (0.6980392156862745, 0.8745098039215686, 0.5411764705882353),\n",
       " (0.2, 0.6274509803921569, 0.17254901960784313),\n",
       " (0.984313725490196, 0.6039215686274509, 0.6),\n",
       " (0.8901960784313725, 0.10196078431372549, 0.10980392156862745),\n",
       " (0.9921568627450981, 0.7490196078431373, 0.43529411764705883),\n",
       " (1.0, 0.4980392156862745, 0.0),\n",
       " (0.792156862745098, 0.6980392156862745, 0.8392156862745098),\n",
       " (0.41568627450980394, 0.23921568627450981, 0.6039215686274509),\n",
       " (1.0, 1.0, 0.6),\n",
       " (0.6941176470588235, 0.34901960784313724, 0.1568627450980392)]"
      ]
     },
     "execution_count": 15,
     "metadata": {},
     "output_type": "execute_result"
    }
   ],
   "source": [
    "palettable.colorbrewer.qualitative.Paired_12.mpl_colors"
   ]
  },
  {
   "cell_type": "code",
   "execution_count": null,
   "id": "bc58b865",
   "metadata": {},
   "outputs": [],
   "source": []
  }
 ],
 "metadata": {
  "kernelspec": {
   "display_name": "Python 3 (ipykernel)",
   "language": "python",
   "name": "python3"
  },
  "language_info": {
   "codemirror_mode": {
    "name": "ipython",
    "version": 3
   },
   "file_extension": ".py",
   "mimetype": "text/x-python",
   "name": "python",
   "nbconvert_exporter": "python",
   "pygments_lexer": "ipython3",
   "version": "3.8.16"
  }
 },
 "nbformat": 4,
 "nbformat_minor": 5
}
